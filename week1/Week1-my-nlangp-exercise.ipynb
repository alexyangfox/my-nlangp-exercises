{
 "cells": [
  {
   "cell_type": "markdown",
   "metadata": {},
   "source": [
    "## 问题  \n",
    "\n",
    "听起来很傻的问题，这里有两句话： \n",
    "\n",
    "- 'He saw the was a football in the park.'   \n",
    "- 'He saw there was a football in the park.'   \n",
    "\n",
    "哪句是对的呢？  \n",
    "\n",
    "我需要做的是，用 `First Order Markov Language Model` 和 `Second Order Markov Language Model` 分别求解出哪句话是对的。  "
   ]
  },
  {
   "cell_type": "code",
   "execution_count": 1,
   "metadata": {},
   "outputs": [],
   "source": [
    "import nltk\n",
    "import plotly\n",
    "from plotly.graph_objs import Scatter, Layout"
   ]
  },
  {
   "cell_type": "code",
   "execution_count": 2,
   "metadata": {},
   "outputs": [],
   "source": [
    "unigrams = [word.lower() for word in nltk.corpus.brown.words()]"
   ]
  },
  {
   "cell_type": "code",
   "execution_count": 3,
   "metadata": {},
   "outputs": [],
   "source": [
    "unigrams_freq_dist = nltk.FreqDist(unigrams)\n",
    "unigrams_counts = unigrams_freq_dist.most_common()"
   ]
  },
  {
   "cell_type": "code",
   "execution_count": 4,
   "metadata": {
    "scrolled": true
   },
   "outputs": [
    {
     "data": {
      "text/html": [
       "<script>requirejs.config({paths: { 'plotly': ['https://cdn.plot.ly/plotly-latest.min']},});if(!window.Plotly) {{require(['plotly'],function(plotly) {window.Plotly=plotly;});}}</script>"
      ],
      "text/vnd.plotly.v1+html": [
       "<script>requirejs.config({paths: { 'plotly': ['https://cdn.plot.ly/plotly-latest.min']},});if(!window.Plotly) {{require(['plotly'],function(plotly) {window.Plotly=plotly;});}}</script>"
      ]
     },
     "metadata": {},
     "output_type": "display_data"
    },
    {
     "data": {
      "application/vnd.plotly.v1+json": {
       "data": [
        {
         "type": "scatter",
         "x": [
          "the",
          ",",
          ".",
          "of",
          "and",
          "to",
          "a",
          "in",
          "that",
          "is",
          "was",
          "he",
          "for",
          "``",
          "''",
          "it",
          "with",
          "as",
          "his",
          "on",
          "be",
          ";",
          "at",
          "by",
          "i",
          "this",
          "had",
          "?",
          "not",
          "are"
         ],
         "y": [
          69971,
          58334,
          49346,
          36412,
          28853,
          26158,
          23195,
          21337,
          10594,
          10109,
          9815,
          9548,
          9489,
          8837,
          8789,
          8760,
          7289,
          7253,
          6996,
          6741,
          6377,
          5566,
          5372,
          5306,
          5164,
          5145,
          5133,
          4693,
          4610,
          4394
         ]
        }
       ],
       "layout": {
        "title": "频数最高的 30 个 unigrams"
       }
      },
      "text/html": [
       "<div id=\"020e490e-6957-4b94-a0ba-420609d0d153\" style=\"height: 525px; width: 100%;\" class=\"plotly-graph-div\"></div><script type=\"text/javascript\">require([\"plotly\"], function(Plotly) { window.PLOTLYENV=window.PLOTLYENV || {};window.PLOTLYENV.BASE_URL=\"https://plot.ly\";Plotly.newPlot(\"020e490e-6957-4b94-a0ba-420609d0d153\", [{\"type\": \"scatter\", \"y\": [69971, 58334, 49346, 36412, 28853, 26158, 23195, 21337, 10594, 10109, 9815, 9548, 9489, 8837, 8789, 8760, 7289, 7253, 6996, 6741, 6377, 5566, 5372, 5306, 5164, 5145, 5133, 4693, 4610, 4394], \"x\": [\"the\", \",\", \".\", \"of\", \"and\", \"to\", \"a\", \"in\", \"that\", \"is\", \"was\", \"he\", \"for\", \"``\", \"''\", \"it\", \"with\", \"as\", \"his\", \"on\", \"be\", \";\", \"at\", \"by\", \"i\", \"this\", \"had\", \"?\", \"not\", \"are\"]}], {\"title\": \"\\u9891\\u6570\\u6700\\u9ad8\\u7684 30 \\u4e2a unigrams\"}, {\"showLink\": true, \"linkText\": \"Export to plot.ly\"})});</script>"
      ],
      "text/vnd.plotly.v1+html": [
       "<div id=\"020e490e-6957-4b94-a0ba-420609d0d153\" style=\"height: 525px; width: 100%;\" class=\"plotly-graph-div\"></div><script type=\"text/javascript\">require([\"plotly\"], function(Plotly) { window.PLOTLYENV=window.PLOTLYENV || {};window.PLOTLYENV.BASE_URL=\"https://plot.ly\";Plotly.newPlot(\"020e490e-6957-4b94-a0ba-420609d0d153\", [{\"type\": \"scatter\", \"y\": [69971, 58334, 49346, 36412, 28853, 26158, 23195, 21337, 10594, 10109, 9815, 9548, 9489, 8837, 8789, 8760, 7289, 7253, 6996, 6741, 6377, 5566, 5372, 5306, 5164, 5145, 5133, 4693, 4610, 4394], \"x\": [\"the\", \",\", \".\", \"of\", \"and\", \"to\", \"a\", \"in\", \"that\", \"is\", \"was\", \"he\", \"for\", \"``\", \"''\", \"it\", \"with\", \"as\", \"his\", \"on\", \"be\", \";\", \"at\", \"by\", \"i\", \"this\", \"had\", \"?\", \"not\", \"are\"]}], {\"title\": \"\\u9891\\u6570\\u6700\\u9ad8\\u7684 30 \\u4e2a unigrams\"}, {\"showLink\": true, \"linkText\": \"Export to plot.ly\"})});</script>"
      ]
     },
     "metadata": {},
     "output_type": "display_data"
    }
   ],
   "source": [
    "plotly.offline.init_notebook_mode(connected=True)\n",
    "\n",
    "plotly.offline.iplot({\n",
    "    \"data\": [Scatter(x=[k for (k,v) in unigrams_counts[:30] ], y=[v for (k,v) in unigrams_counts[:30] ])],\n",
    "    \"layout\": Layout(title=\"频数最高的 30 个 unigrams\")\n",
    "})"
   ]
  },
  {
   "cell_type": "code",
   "execution_count": 5,
   "metadata": {
    "scrolled": false
   },
   "outputs": [
    {
     "name": "stdout",
     "output_type": "stream",
     "text": [
      "['he', 'saw', 'the', 'was', 'a', 'football', 'in', 'the', 'park', '.']\n"
     ]
    }
   ],
   "source": [
    "s1 = 'He saw the was a football in the park.'  \n",
    "s2 = 'He saw there was a football in the park.'  \n",
    "\n",
    "tokens_in_s1 = [word.lower() for word in nltk.tokenize.wordpunct_tokenize(s1) ]\n",
    "tokens_in_s2 = [word.lower() for word in  nltk.tokenize.wordpunct_tokenize(s2) ]\n",
    "\n",
    "print(tokens_in_s1)"
   ]
  },
  {
   "cell_type": "markdown",
   "metadata": {},
   "source": [
    "## First Order Way"
   ]
  },
  {
   "cell_type": "code",
   "execution_count": 6,
   "metadata": {},
   "outputs": [],
   "source": [
    "bigrams = nltk.ngrams(unigrams,2) # generator returned \n",
    "\n",
    "bigram_freq_dist = nltk.FreqDist(bigrams)\n",
    "bigrams_counts = bigram_freq_dist.most_common()"
   ]
  },
  {
   "cell_type": "code",
   "execution_count": 7,
   "metadata": {
    "scrolled": false
   },
   "outputs": [
    {
     "data": {
      "application/vnd.plotly.v1+json": {
       "data": [
        {
         "type": "scatter",
         "x": [
          "of the",
          ", and",
          ". the",
          "in the",
          ", the",
          ". ``",
          "to the",
          "'' .",
          "; ;",
          ". he",
          "on the",
          "? ?",
          "and the",
          "'' ,",
          ", but",
          "for the",
          ". it",
          "to be",
          "at the",
          ". in",
          "with the",
          ", he",
          "of a",
          "it is",
          "in a",
          "from the",
          "that the",
          "by the",
          ", a",
          "it was"
         ],
         "y": [
          9717,
          6302,
          6081,
          6025,
          3787,
          3515,
          3484,
          3332,
          2784,
          2660,
          2466,
          2346,
          2246,
          2032,
          1856,
          1852,
          1836,
          1718,
          1655,
          1619,
          1533,
          1495,
          1472,
          1470,
          1414,
          1411,
          1379,
          1347,
          1301,
          1296
         ]
        }
       ],
       "layout": {
        "title": "频数最高的 30 个 bigrams"
       }
      },
      "text/html": [
       "<div id=\"6ce947c3-1e83-4f88-91e2-1bb94472dea4\" style=\"height: 525px; width: 100%;\" class=\"plotly-graph-div\"></div><script type=\"text/javascript\">require([\"plotly\"], function(Plotly) { window.PLOTLYENV=window.PLOTLYENV || {};window.PLOTLYENV.BASE_URL=\"https://plot.ly\";Plotly.newPlot(\"6ce947c3-1e83-4f88-91e2-1bb94472dea4\", [{\"type\": \"scatter\", \"y\": [9717, 6302, 6081, 6025, 3787, 3515, 3484, 3332, 2784, 2660, 2466, 2346, 2246, 2032, 1856, 1852, 1836, 1718, 1655, 1619, 1533, 1495, 1472, 1470, 1414, 1411, 1379, 1347, 1301, 1296], \"x\": [\"of the\", \", and\", \". the\", \"in the\", \", the\", \". ``\", \"to the\", \"'' .\", \"; ;\", \". he\", \"on the\", \"? ?\", \"and the\", \"'' ,\", \", but\", \"for the\", \". it\", \"to be\", \"at the\", \". in\", \"with the\", \", he\", \"of a\", \"it is\", \"in a\", \"from the\", \"that the\", \"by the\", \", a\", \"it was\"]}], {\"title\": \"\\u9891\\u6570\\u6700\\u9ad8\\u7684 30 \\u4e2a bigrams\"}, {\"showLink\": true, \"linkText\": \"Export to plot.ly\"})});</script>"
      ],
      "text/vnd.plotly.v1+html": [
       "<div id=\"6ce947c3-1e83-4f88-91e2-1bb94472dea4\" style=\"height: 525px; width: 100%;\" class=\"plotly-graph-div\"></div><script type=\"text/javascript\">require([\"plotly\"], function(Plotly) { window.PLOTLYENV=window.PLOTLYENV || {};window.PLOTLYENV.BASE_URL=\"https://plot.ly\";Plotly.newPlot(\"6ce947c3-1e83-4f88-91e2-1bb94472dea4\", [{\"type\": \"scatter\", \"y\": [9717, 6302, 6081, 6025, 3787, 3515, 3484, 3332, 2784, 2660, 2466, 2346, 2246, 2032, 1856, 1852, 1836, 1718, 1655, 1619, 1533, 1495, 1472, 1470, 1414, 1411, 1379, 1347, 1301, 1296], \"x\": [\"of the\", \", and\", \". the\", \"in the\", \", the\", \". ``\", \"to the\", \"'' .\", \"; ;\", \". he\", \"on the\", \"? ?\", \"and the\", \"'' ,\", \", but\", \"for the\", \". it\", \"to be\", \"at the\", \". in\", \"with the\", \", he\", \"of a\", \"it is\", \"in a\", \"from the\", \"that the\", \"by the\", \", a\", \"it was\"]}], {\"title\": \"\\u9891\\u6570\\u6700\\u9ad8\\u7684 30 \\u4e2a bigrams\"}, {\"showLink\": true, \"linkText\": \"Export to plot.ly\"})});</script>"
      ]
     },
     "metadata": {},
     "output_type": "display_data"
    }
   ],
   "source": [
    "plotly.offline.iplot({\n",
    "    \"data\": [Scatter(x=[k[0]+' '+k[1] for (k,v) in bigrams_counts[:30] ], y=[v for (k,v) in bigrams_counts[:30] ])],\n",
    "    \"layout\": Layout(title=\"频数最高的 30 个 bigrams\")\n",
    "})"
   ]
  },
  {
   "cell_type": "markdown",
   "metadata": {},
   "source": [
    "- 这里我不能将每一个 bigram 的条件概率提前计算好，因为太多了 \n",
    "\n",
    "这里对条件概率的估计使用 Maximum Likelihood:  \n",
    "\n",
    "> `q(w1|w0) = c(w0,w1)/c(w0)`  \n",
    "\n",
    "其中 : \n",
    "\n",
    "- `c(w0,w1)`: `bigram w0 w1` 的频数  \n",
    "- `c(w1)` : `unigram w1` 的频数 "
   ]
  },
  {
   "cell_type": "code",
   "execution_count": 8,
   "metadata": {},
   "outputs": [
    {
     "name": "stdout",
     "output_type": "stream",
     "text": [
      "[(('he', 'saw'), 0.00974026812842305), (('saw', 'there'), 0.0), (('there', 'was'), 0.2100441691564777), (('was', 'a'), 0.07916461224050571), (('a', 'football'), 0.0002586766616558999), (('football', 'in'), 0.0), (('in', 'the'), 0.2823735852574503), (('the', 'park'), 0.0002286663586193746), (('park', '.'), 0.1170213773726854)]\n"
     ]
    }
   ],
   "source": [
    "print(\n",
    "    [(bigram, bigram_freq_dist.freq(bigram)/ unigrams_freq_dist.freq(bigram[0])) for bigram in nltk.ngrams(tokens_in_s2,2) ]\n",
    ")"
   ]
  },
  {
   "cell_type": "markdown",
   "metadata": {},
   "source": [
    "遇到问题了， 不少 `bigrams` 的 `c(w0,w1)/c(w0)` 是 0 . \n",
    "\n",
    "接下来考虑一下 `discounting method`，这里让 `beta = 0.5`:  \n",
    "\n",
    "-  `q(w1|w0) = （c(w0,w1) - beta）/c(w0)` ， 如果 `c(w0,w1) > 0`.  \n",
    "-  `q(w1|w0) = alpha(w0,w1) * c(w1)/c()`, 如果 `c(w0,w1) ==0`,  \n",
    "- `c()`: 表示的是所有 `unigrams` 的频数和 \n",
    "- `alpha(w0,w1) 是 1-sum([q(w1|w0) for all w1 and c(w0,w1) > 0])`\n",
    "\n",
    "参考 [week1-question2.pdf 中的 Question 4](week1-question2.pdf)"
   ]
  },
  {
   "cell_type": "code",
   "execution_count": 9,
   "metadata": {},
   "outputs": [],
   "source": [
    "beta = 0.5\n",
    "def get_bigram_probability(bigram):\n",
    "    counts = bigram_freq_dist[bigram]\n",
    "    if counts == 0:\n",
    "        # 首先要计算一下 alpha \n",
    "        # alpha = num_of_types_of_w1 * beta / c(w0)  \n",
    "        num_of_types_of_w1 = 0 \n",
    "        for bi in bigram_freq_dist.keys(): \n",
    "            if bi[1] == bigram[1]:\n",
    "                num_of_types_of_w1 += 1\n",
    "        alpha = num_of_types_of_w1 * beta / unigrams_freq_dist[bigram[0]]\n",
    "        \n",
    "        return alpha*unigrams_freq_dist.freq(bigram[1])\n",
    "    else:\n",
    "        return (counts - beta)/unigrams_freq_dist[bigram[0]]\n",
    "        \n",
    "        \n",
    "                "
   ]
  },
  {
   "cell_type": "markdown",
   "metadata": {},
   "source": [
    "好啦，现在来看看情况如何呢？ "
   ]
  },
  {
   "cell_type": "code",
   "execution_count": 10,
   "metadata": {
    "scrolled": false
   },
   "outputs": [
    {
     "name": "stdout",
     "output_type": "stream",
     "text": [
      "[(('he', 'saw'), 0.009687892752408882), (('saw', 'the'), 0.18039772727272727), (('the', 'was'), 0.00015172523802936162), (('was', 'a'), 0.07911360163015792), (('a', 'football'), 0.0002371200689803837), (('football', 'in'), 1.5371267795889432), (('in', 'the'), 0.28234990860945774), (('the', 'park'), 0.00022152034414257336), (('park', '.'), 0.11170212765957446)]\n"
     ]
    }
   ],
   "source": [
    "print(\n",
    "    [(bigram, get_bigram_probability(bigram)) for bigram in nltk.ngrams(tokens_in_s1,2) ]\n",
    ")"
   ]
  },
  {
   "cell_type": "code",
   "execution_count": 11,
   "metadata": {},
   "outputs": [
    {
     "name": "stdout",
     "output_type": "stream",
     "text": [
      "[(('he', 'saw'), 0.009687892752408882), (('saw', 'there'), 0.0015217121716305311), (('there', 'was'), 0.20986070381231672), (('was', 'a'), 0.07911360163015792), (('a', 'football'), 0.0002371200689803837), (('football', 'in'), 1.5371267795889432), (('in', 'the'), 0.28234990860945774), (('the', 'park'), 0.00022152034414257336), (('park', '.'), 0.11170212765957446)]\n"
     ]
    }
   ],
   "source": [
    "print(\n",
    "    [(bigram, get_bigram_probability(bigram)) for bigram in nltk.ngrams(tokens_in_s2,2) ]\n",
    ")"
   ]
  },
  {
   "cell_type": "code",
   "execution_count": 12,
   "metadata": {},
   "outputs": [],
   "source": [
    "from operator import mul\n",
    "from functools import reduce"
   ]
  },
  {
   "cell_type": "code",
   "execution_count": 13,
   "metadata": {},
   "outputs": [],
   "source": [
    "p_s1 = reduce(mul,\n",
    "    [v for (k,v) in  [(bigram, get_bigram_probability(bigram)) for bigram in nltk.ngrams(tokens_in_s1,2) ]]\n",
    "    ,1)\n",
    "\n",
    "p_s2 = reduce(mul,\n",
    "    [v for (k,v) in  [(bigram, get_bigram_probability(bigram)) for bigram in nltk.ngrams(tokens_in_s2,2) ]]\n",
    "    ,1)\n"
   ]
  },
  {
   "cell_type": "code",
   "execution_count": 14,
   "metadata": {},
   "outputs": [
    {
     "name": "stdout",
     "output_type": "stream",
     "text": [
      "5.3420762636186025e-17\n",
      "6.232823572553894e-16\n",
      "Aha! The right sentence is 'He saw there was a football in the park.'\n"
     ]
    }
   ],
   "source": [
    "print(p_s1)\n",
    "print(p_s2)\n",
    "if p_s1 < p_s2:\n",
    "    print('Aha! The right sentence is \\'' +\n",
    "          s2 + '\\''\n",
    "         )\n",
    "else:\n",
    "     print('Aha! The right sentence is \\'' +\n",
    "          s1 + '\\'' \n",
    "         )   "
   ]
  },
  {
   "cell_type": "markdown",
   "metadata": {},
   "source": [
    "## Second Order Way"
   ]
  },
  {
   "cell_type": "code",
   "execution_count": null,
   "metadata": {},
   "outputs": [],
   "source": []
  },
  {
   "cell_type": "markdown",
   "metadata": {},
   "source": [
    "## Discussion"
   ]
  },
  {
   "cell_type": "markdown",
   "metadata": {},
   "source": [
    "- 如果有出现 `unigram` 的 `counts` 也为 0 的情况该如何处理呢？  \n",
    "- 是否把 `trigram` 看成是 `bigram + unigram` ，在程序设计上会有一些很棒的思路呢？  "
   ]
  }
 ],
 "metadata": {
  "kernelspec": {
   "display_name": "Python 3",
   "language": "python",
   "name": "python3"
  },
  "language_info": {
   "codemirror_mode": {
    "name": "ipython",
    "version": 3
   },
   "file_extension": ".py",
   "mimetype": "text/x-python",
   "name": "python",
   "nbconvert_exporter": "python",
   "pygments_lexer": "ipython3",
   "version": "3.5.2"
  }
 },
 "nbformat": 4,
 "nbformat_minor": 2
}
